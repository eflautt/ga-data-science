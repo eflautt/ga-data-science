{
 "cells": [
  {
   "cell_type": "code",
   "execution_count": 1,
   "metadata": {
    "collapsed": false
   },
   "outputs": [
    {
     "name": "stdout",
     "output_type": "stream",
     "text": [
      "states\n",
      "FL    52.500000\n",
      "GA    44.000000\n",
      "NY    57.666667\n",
      "dtype: float64\n",
      "states\n",
      "FL    4.500000\n",
      "GA    1.120000\n",
      "NY    3.133333\n",
      "dtype: float64\n"
     ]
    }
   ],
   "source": [
    "import pandas as pd\n",
    "import numpy as np\n",
    "\n",
    "def build_data_frame( cities, states, city_avg_incomes, city_populations ): \n",
    "    city_table = pd.DataFrame( {'cities': cities,  \n",
    "                                'states': states, \n",
    "                                'city_avg_incomes':city_avg_incomes, \n",
    "                                'city_populations':city_populations \n",
    "                               } )\n",
    "    return city_table # table has default incremented index\n",
    "\n",
    "def get_aggregate_mean(x): return x.mean()\n",
    "\n",
    "def get_aggregate_stats(city_table):\n",
    "    pop_in_millions = city_table['city_populations'].apply(lambda x: float(x)/1000000) # transform columns to correct units\n",
    "    income_in_k = city_table['city_avg_incomes'].apply(lambda x: float(x)/1000)\n",
    "    \n",
    "    city_table['city_populations'] = pop_in_millions # append columns\n",
    "    city_table['city_avg_incomes'] = income_in_k\n",
    "    \n",
    "    cty_table_by_state = city_table.groupby('states') # dont repeat groupBy\n",
    "    \n",
    "    avg_city_income_by_state = cty_table_by_state.apply(lambda x: get_aggregate_mean(x['city_avg_incomes']))  #reduceByKey\n",
    "    avg_city_pop_by_state    = cty_table_by_state.apply(lambda x: get_aggregate_mean(x['city_populations']))\n",
    "    \n",
    "   # for key,group in cty_table_by_state:\n",
    "   #     avg_city_income_by_state = get_aggregate_mean( group['city_avg_incomes'] )\n",
    "   #     avg_city_pop_by_state = get_aggregate_mean( group['city_populations'] )\n",
    "   #     print(avg_city_income_by_state)\n",
    "   #     print(avg_city_pop_by_state)\n",
    "\n",
    "                                                          \n",
    "    print(avg_city_income_by_state)\n",
    "    print(avg_city_pop_by_state)\n",
    "    \n",
    "\n",
    "# data below\n",
    "\n",
    "states = pd.Series(['GA','GA','GA','GA','GA',\"NY\",\"NY\",\"NY\",\"FL\",\"FL\"])\n",
    "cities  = pd.Series(['Atlanta','Lilburn','Athens','Auburn','Augusta','NYC','Buffalo','Albany','Miami','Tallahassee'])\n",
    "city_avg_incomes = pd.Series([55000,40000,50000,45000,30000,60000,57000,56000,65000,40000])\n",
    "city_populations = pd.Series([5000000,250000,100000,50000,200000,6000000,3000000,400000,4000000,5000000])\n",
    "city_table = build_data_frame( cities, states, city_avg_incomes, city_populations )\n",
    "get_aggregate_stats(city_table)\n",
    "    "
   ]
  },
  {
   "cell_type": "code",
   "execution_count": null,
   "metadata": {
    "collapsed": true
   },
   "outputs": [],
   "source": []
  }
 ],
 "metadata": {
  "kernelspec": {
   "display_name": "Python 2",
   "language": "python",
   "name": "python2"
  },
  "language_info": {
   "codemirror_mode": {
    "name": "ipython",
    "version": 2
   },
   "file_extension": ".py",
   "mimetype": "text/x-python",
   "name": "python",
   "nbconvert_exporter": "python",
   "pygments_lexer": "ipython2",
   "version": "2.7.11"
  }
 },
 "nbformat": 4,
 "nbformat_minor": 0
}
